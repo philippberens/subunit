{
 "cells": [
  {
   "cell_type": "code",
   "execution_count": 155,
   "metadata": {
    "collapsed": false
   },
   "outputs": [],
   "source": [
    "import scipy.io as io\n",
    "import seaborn as sns\n",
    "import matplotlib.pyplot as plt\n",
    "import pandas as pd\n",
    "import numpy as np\n",
    "from sklearn.cluster import KMeans\n",
    "from sklearn.mixture import GMM\n",
    "from scipy.stats import binned_statistic_2d\n",
    "from sklearn.decomposition import NMF\n",
    "\n",
    "sns.set_style('whitegrid')\n",
    "\n",
    "%matplotlib inline"
   ]
  },
  {
   "cell_type": "markdown",
   "metadata": {},
   "source": [
    "## Set parameters of the model and visualize it"
   ]
  },
  {
   "cell_type": "code",
   "execution_count": 156,
   "metadata": {
    "collapsed": true
   },
   "outputs": [],
   "source": [
    "D = 6 # size of RF\n",
    "T = 10000 # number of time steps\n",
    "dt = 0.01 # size of time step in s\n",
    "R = 10 # firing rate in Hz"
   ]
  },
  {
   "cell_type": "code",
   "execution_count": 157,
   "metadata": {
    "collapsed": false
   },
   "outputs": [],
   "source": [
    "k = np.zeros((D,D))\n",
    "\n",
    "# subunits\n",
    "k1 = k.copy()\n",
    "k1[2,2:4] = 1\n",
    "k1 = k1.flatten()\n",
    "\n",
    "k2 = k.copy()\n",
    "k2[3,2:4] = 1\n",
    "k2=k2.flatten()\n",
    "\n",
    "w = np.array([.5, .5])\n",
    "\n",
    "# linear receptive field \n",
    "ks = np.concatenate((k1[:,np.newaxis],k2[:,np.newaxis]),axis=1) \n",
    "k = ks @ w"
   ]
  },
  {
   "cell_type": "code",
   "execution_count": 158,
   "metadata": {
    "collapsed": false
   },
   "outputs": [
    {
     "data": {
      "text/plain": [
       "<matplotlib.text.Text at 0x138e8278>"
      ]
     },
     "execution_count": 158,
     "metadata": {},
     "output_type": "execute_result"
    },
    {
     "data": {
      "image/png": "[encoded data removed]",
      "text/plain": [
       "<matplotlib.figure.Figure at 0x13864080>"
      ]
     },
     "metadata": {},
     "output_type": "display_data"
    }
   ],
   "source": [
    "plt.subplot(1,2,1)\n",
    "plt.imshow(k1.reshape(D,D),interpolation='nearest')\n",
    "plt.title('Subunit 1')\n",
    "\n",
    "plt.subplot(1,2,2)\n",
    "plt.imshow(k2.reshape(D,D),interpolation='nearest')\n",
    "plt.title('Subunit 2')"
   ]
  },
  {
   "cell_type": "markdown",
   "metadata": {},
   "source": [
    "## Simulate responses to Gaussian noise"
   ]
  },
  {
   "cell_type": "code",
   "execution_count": 159,
   "metadata": {
    "collapsed": false
   },
   "outputs": [],
   "source": [
    "# create stimulus\n",
    "np.random.seed(10)\n",
    "s = np.random.normal(0,1,(D**2,T))"
   ]
  },
  {
   "cell_type": "code",
   "execution_count": 160,
   "metadata": {
    "collapsed": false
   },
   "outputs": [],
   "source": [
    "#generate responses from subunit model\n",
    "rs = np.exp(ks.transpose() @ s) * dt * R \n",
    "r = w.transpose() @ rs\n",
    "\n",
    "np.random.seed(4000)\n",
    "sp = np.random.poisson(r) \n"
   ]
  },
  {
   "cell_type": "code",
   "execution_count": 161,
   "metadata": {
    "collapsed": false
   },
   "outputs": [
    {
     "data": {
      "text/plain": [
       "<matplotlib.text.Text at 0x14bf2b00>"
      ]
     },
     "execution_count": 161,
     "metadata": {},
     "output_type": "execute_result"
    },
    {
     "data": {
      "image/png": "[encoded data removed]",
      "text/plain": [
       "<matplotlib.figure.Figure at 0x13871470>"
      ]
     },
     "metadata": {},
     "output_type": "display_data"
    }
   ],
   "source": [
    "t = np.arange(0,T) * dt;\n",
    "plt.plot(t,sp)\n",
    "plt.xlabel('Time (s)')\n",
    "plt.ylabel('Number of spikes')"
   ]
  },
  {
   "cell_type": "markdown",
   "metadata": {},
   "source": [
    "## Finding subunits with kmeans"
   ]
  },
  {
   "cell_type": "code",
   "execution_count": 162,
   "metadata": {
    "collapsed": false
   },
   "outputs": [],
   "source": [
    "ste = np.zeros((s.shape[0],0))\n",
    "for i,n in enumerate(sp):\n",
    "    if n>0:\n",
    "        ss = s[:,i]\n",
    "        tmp = np.kron(np.ones((1,n)),ss[:,np.newaxis])\n",
    "        ste = np.concatenate((ste,tmp),axis=1)\n",
    "        \n",
    "ste.shape\n",
    "\n",
    "sta = np.mean(ste,axis=1)\n",
    "    "
   ]
  },
  {
   "cell_type": "code",
   "execution_count": 163,
   "metadata": {
    "collapsed": false
   },
   "outputs": [],
   "source": [
    "k_means = KMeans(n_clusters=2)\n",
    "k_means.fit(ste.transpose())\n",
    "\n",
    "k1_est = k_means.cluster_centers_[0,:]\n",
    "k2_est = k_means.cluster_centers_[1,:]\n",
    "#k3_est = k_means.cluster_centers_[2,:]\n"
   ]
  },
  {
   "cell_type": "code",
   "execution_count": 164,
   "metadata": {
    "collapsed": false
   },
   "outputs": [
    {
     "data": {
      "text/plain": [
       "<matplotlib.text.Text at 0x139ace80>"
      ]
     },
     "execution_count": 164,
     "metadata": {},
     "output_type": "execute_result"
    },
    {
     "data": {
      "image/png": "[encoded data removed]",
      "text/plain": [
       "<matplotlib.figure.Figure at 0x139224a8>"
      ]
     },
     "metadata": {},
     "output_type": "display_data"
    }
   ],
   "source": [
    "plt.subplot(1,3,1)\n",
    "plt.imshow(sta.reshape(D,D),interpolation='nearest')\n",
    "plt.title('STA')\n",
    "\n",
    "plt.subplot(1,3,2)\n",
    "plt.imshow(k1_est.reshape(D,D),interpolation='nearest')\n",
    "plt.title('Subunit 1')\n",
    "\n",
    "plt.subplot(1,3,3)\n",
    "plt.imshow(k2_est.reshape(D,D),interpolation='nearest')\n",
    "plt.title('Subunit 2')\n",
    "\n",
    "#plt.subplot(1,4,4)\n",
    "#plt.imshow(k3_est.reshape(D,D),interpolation='nearest')\n",
    "#plt.title('Subunit 3')\n"
   ]
  },
  {
   "cell_type": "code",
   "execution_count": 165,
   "metadata": {
    "collapsed": false
   },
   "outputs": [
    {
     "data": {
      "text/plain": [
       "<matplotlib.text.Text at 0x13a3acc0>"
      ]
     },
     "execution_count": 165,
     "metadata": {},
     "output_type": "execute_result"
    },
    {
     "data": {
      "image/png": "[encoded data removed]",
      "text/plain": [
       "<matplotlib.figure.Figure at 0x14bf5fd0>"
      ]
     },
     "metadata": {},
     "output_type": "display_data"
    }
   ],
   "source": [
    "r1_est = k1_est.transpose() @ s\n",
    "r2_est = k2_est.transpose() @ s\n",
    "\n",
    "ret = binned_statistic_2d(r1_est,r2_est,sp,range=[[-10,10],[-10,10]],bins=10)\n",
    "mns = ret.statistic\n",
    "xb = ret.x_edge\n",
    "yb = ret.y_edge\n",
    "\n",
    "plt.imshow(mns, interpolation='nearest', extent=[-10,10,-10,10])\n",
    "plt.title('Nonlinearity')\n",
    "plt.xlabel('Subunit 1')\n",
    "plt.ylabel('Subunit 2')"
   ]
  },
  {
   "cell_type": "markdown",
   "metadata": {},
   "source": [
    "## NMF"
   ]
  },
  {
   "cell_type": "code",
   "execution_count": 166,
   "metadata": {
    "collapsed": false
   },
   "outputs": [],
   "source": [
    "nmf_mod = NMF(n_components=2)\n",
    "nmf_mod.fit(ste.transpose()+np.abs(np.min(ste)))\n",
    "\n",
    "k1_est = nmf_mod.components_[0,:]\n",
    "k2_est = nmf_mod.components_[1,:]\n",
    "\n"
   ]
  },
  {
   "cell_type": "code",
   "execution_count": 167,
   "metadata": {
    "collapsed": false
   },
   "outputs": [
    {
     "data": {
      "text/plain": [
       "<matplotlib.text.Text at 0x13aeda90>"
      ]
     },
     "execution_count": 167,
     "metadata": {},
     "output_type": "execute_result"
    },
    {
     "data": {
      "image/png": "[encoded data removed]",
      "text/plain": [
       "<matplotlib.figure.Figure at 0x13864a58>"
      ]
     },
     "metadata": {},
     "output_type": "display_data"
    }
   ],
   "source": [
    "plt.subplot(1,2,1)\n",
    "plt.imshow(k1_est.reshape(D,D),interpolation='nearest')\n",
    "plt.title('Subunit 1')\n",
    "\n",
    "plt.subplot(1,2,2)\n",
    "plt.imshow(k2_est.reshape(D,D),interpolation='nearest')\n",
    "plt.title('Subunit 2')"
   ]
  },
  {
   "cell_type": "markdown",
   "metadata": {},
   "source": [
    "## Gaussian mixture model"
   ]
  },
  {
   "cell_type": "code",
   "execution_count": 168,
   "metadata": {
    "collapsed": false
   },
   "outputs": [],
   "source": [
    "g_mm = GMM(n_components=2,covariance_type='diag')\n",
    "g_mm.fit(ste.transpose())\n",
    "\n",
    "k1_est = g_mm.means_[0,:]\n",
    "k2_est = g_mm.means_[1,:]\n"
   ]
  },
  {
   "cell_type": "code",
   "execution_count": 169,
   "metadata": {
    "collapsed": false
   },
   "outputs": [
    {
     "data": {
      "text/plain": [
       "<matplotlib.text.Text at 0x14f5b9b0>"
      ]
     },
     "execution_count": 169,
     "metadata": {},
     "output_type": "execute_result"
    },
    {
     "data": {
      "image/png": "[encoded data removed]",
      "text/plain": [
       "<matplotlib.figure.Figure at 0x13b1efd0>"
      ]
     },
     "metadata": {},
     "output_type": "display_data"
    }
   ],
   "source": [
    "plt.subplot(1,3,1)\n",
    "plt.imshow(sta.reshape(D,D),interpolation='nearest')\n",
    "plt.title('STA')\n",
    "\n",
    "plt.subplot(1,3,2)\n",
    "plt.imshow(k1_est.reshape(D,D),interpolation='nearest')\n",
    "plt.title('Subunit 1')\n",
    "\n",
    "plt.subplot(1,3,3)\n",
    "plt.imshow(k2_est.reshape(D,D),interpolation='nearest')\n",
    "plt.title('Subunit 2')\n"
   ]
  },
  {
   "cell_type": "markdown",
   "metadata": {},
   "source": [
    " ## Iterative algorithm by Shlens et al.\n",
    " \n",
    " For some reason, this does not work - rather, the algorithm walks away even from the correct solution. I guess something must be wrong."
   ]
  },
  {
   "cell_type": "code",
   "execution_count": null,
   "metadata": {
    "collapsed": true
   },
   "outputs": [],
   "source": [
    "#for i in range(1,1000):\n",
    "tmp = w[:,np.newaxis] * (np.exp(ks_est.transpose() @ s))\n",
    "\n",
    "alpha = tmp/np.sum(tmp,axis=0)\n",
    "\n",
    "ks_est = (s @ alpha.transpose()) / np.sum(alpha,axis=1)\n",
    "\n",
    "w_est = np.sum(alpha,axis=1) / T * np.exp(-.5 * np.linalg.norm(ks_est,axis=0)**2)  "
   ]
  }
 ],
 "metadata": {
  "anaconda-cloud": {},
  "kernelspec": {
   "display_name": "Python [Root]",
   "language": "python",
   "name": "Python [Root]"
  },
  "language_info": {
   "codemirror_mode": {
    "name": "ipython",
    "version": 3
   },
   "file_extension": ".py",
   "mimetype": "text/x-python",
   "name": "python",
   "nbconvert_exporter": "python",
   "pygments_lexer": "ipython3",
   "version": "3.5.2"
  }
 },
 "nbformat": 4,
 "nbformat_minor": 0
}
