{
 "cells": [
  {
   "cell_type": "code",
   "execution_count": 458,
   "metadata": {
    "collapsed": false
   },
   "outputs": [],
   "source": [
    "import scipy.io as io\n",
    "import seaborn as sns\n",
    "import matplotlib.pyplot as plt\n",
    "import pandas as pd\n",
    "import numpy as np\n",
    "from sklearn.cluster import KMeans\n",
    "from sklearn.mixture import GMM\n",
    "\n",
    "sns.set_style('whitegrid')\n",
    "\n",
    "%matplotlib inline"
   ]
  },
  {
   "cell_type": "markdown",
   "metadata": {},
   "source": [
    "## Set parameters of the model and visualize it"
   ]
  },
  {
   "cell_type": "code",
   "execution_count": 413,
   "metadata": {
    "collapsed": true
   },
   "outputs": [],
   "source": [
    "D = 6 # size of RF\n",
    "T = 1000 # number of time steps\n",
    "dt = 0.01 # size of time step in s\n",
    "R = 50 # firing rate in Hz"
   ]
  },
  {
   "cell_type": "code",
   "execution_count": 414,
   "metadata": {
    "collapsed": false
   },
   "outputs": [],
   "source": [
    "k = np.zeros((D,D))\n",
    "\n",
    "# subunits\n",
    "k1 = k.copy()\n",
    "k1[2,2:4] = 1\n",
    "k1 = k1.flatten()\n",
    "\n",
    "k2 = k.copy()\n",
    "k2[3,2:4] = 1\n",
    "k2=w2.flatten()\n",
    "\n",
    "w = np.array([.5, .5])\n",
    "\n",
    "# linear receptive field \n",
    "ks = np.concatenate((k1[:,np.newaxis],k2[:,np.newaxis]),axis=1) \n",
    "k = ks @ w"
   ]
  },
  {
   "cell_type": "code",
   "execution_count": 418,
   "metadata": {
    "collapsed": false
   },
   "outputs": [
    {
     "data": {
      "text/plain": [
       "<matplotlib.text.Text at 0x2697f9e8>"
      ]
     },
     "execution_count": 418,
     "metadata": {},
     "output_type": "execute_result"
    },
    {
     "data": {
      "image/png": "[encoded data removed]",
      "text/plain": [
       "<matplotlib.figure.Figure at 0x268f7048>"
      ]
     },
     "metadata": {},
     "output_type": "display_data"
    }
   ],
   "source": [
    "plt.subplot(1,2,1)\n",
    "plt.imshow(k1.reshape(D,D),interpolation='nearest')\n",
    "plt.title('Subunit 1')\n",
    "\n",
    "plt.subplot(1,2,2)\n",
    "plt.imshow(k2.reshape(D,D),interpolation='nearest')\n",
    "plt.title('Subunit 2')"
   ]
  },
  {
   "cell_type": "markdown",
   "metadata": {},
   "source": [
    "## Simulate responses to Gaussian noise"
   ]
  },
  {
   "cell_type": "code",
   "execution_count": 403,
   "metadata": {
    "collapsed": false
   },
   "outputs": [],
   "source": [
    "# create stimulus\n",
    "np.random.seed(0)\n",
    "s = np.random.normal(0,1,(D**2,T))"
   ]
  },
  {
   "cell_type": "code",
   "execution_count": 404,
   "metadata": {
    "collapsed": false
   },
   "outputs": [],
   "source": [
    "#generate responses\n",
    "rs = np.exp(ks.transpose() @ s) * dt * R \n",
    "r = w.transpose() @ rs\n",
    "\n",
    "np.random.seed(10000)\n",
    "sp = np.random.poisson(r) "
   ]
  },
  {
   "cell_type": "code",
   "execution_count": 423,
   "metadata": {
    "collapsed": false
   },
   "outputs": [
    {
     "data": {
      "text/plain": [
       "<matplotlib.text.Text at 0x26b22940>"
      ]
     },
     "execution_count": 423,
     "metadata": {},
     "output_type": "execute_result"
    },
    {
     "data": {
      "image/png": "[encoded data removed]",
      "text/plain": [
       "<matplotlib.figure.Figure at 0x26ad3b70>"
      ]
     },
     "metadata": {},
     "output_type": "display_data"
    }
   ],
   "source": [
    "t = np.arange(0,T) * dt;\n",
    "plt.plot(t,sp)\n",
    "plt.xlabel('Time (s)')\n",
    "plt.ylabel('Number of spikes')"
   ]
  },
  {
   "cell_type": "markdown",
   "metadata": {},
   "source": [
    "## Finding subunits"
   ]
  },
  {
   "cell_type": "code",
   "execution_count": 425,
   "metadata": {
    "collapsed": false
   },
   "outputs": [],
   "source": [
    "ste = np.zeros((s.shape[0],0))\n",
    "for i,n in enumerate(sp):\n",
    "    if n>0:\n",
    "        ss = s[:,i]\n",
    "        tmp = np.kron(np.ones((1,n)),ss[:,np.newaxis])\n",
    "        ste = np.concatenate((ste,tmp),axis=1)\n",
    "        \n",
    "ste.shape\n",
    "\n",
    "sta = np.mean(ste,axis=1)\n",
    "    "
   ]
  },
  {
   "cell_type": "code",
   "execution_count": 448,
   "metadata": {
    "collapsed": false
   },
   "outputs": [],
   "source": [
    "k_means = KMeans(n_clusters=2)\n",
    "k_means.fit(ste.transpose())\n",
    "\n",
    "k1_est = k_means.cluster_centers_[0,:]\n",
    "k2_est = k_means.cluster_centers_[1,:]\n"
   ]
  },
  {
   "cell_type": "code",
   "execution_count": 449,
   "metadata": {
    "collapsed": false
   },
   "outputs": [
    {
     "data": {
      "text/plain": [
       "<matplotlib.text.Text at 0x29bcbf28>"
      ]
     },
     "execution_count": 449,
     "metadata": {},
     "output_type": "execute_result"
    },
    {
     "data": {
      "image/png": "[encoded data removed]",
      "text/plain": [
       "<matplotlib.figure.Figure at 0x29a5e940>"
      ]
     },
     "metadata": {},
     "output_type": "display_data"
    }
   ],
   "source": [
    "plt.subplot(1,3,1)\n",
    "plt.imshow(sta.reshape(D,D),interpolation='nearest')\n",
    "plt.title('Subunit 1')\n",
    "\n",
    "plt.subplot(1,3,2)\n",
    "plt.imshow(k1_est.reshape(D,D),interpolation='nearest')\n",
    "plt.title('Subunit 1')\n",
    "\n",
    "plt.subplot(1,3,3)\n",
    "plt.imshow(k2_est.reshape(D,D),interpolation='nearest')\n",
    "plt.title('Subunit 2')\n"
   ]
  },
  {
   "cell_type": "code",
   "execution_count": 468,
   "metadata": {
    "collapsed": false
   },
   "outputs": [],
   "source": [
    "g_mm = GMM(n_components=2,covariance_type='diag')\n",
    "g_mm.fit(ste.transpose())\n",
    "\n",
    "k1_est = g_mm.means_[0,:]\n",
    "k2_est = g_mm.means_[1,:]\n"
   ]
  },
  {
   "cell_type": "code",
   "execution_count": 467,
   "metadata": {
    "collapsed": false
   },
   "outputs": [
    {
     "data": {
      "text/plain": [
       "<matplotlib.text.Text at 0x2541e780>"
      ]
     },
     "execution_count": 467,
     "metadata": {},
     "output_type": "execute_result"
    },
    {
     "data": {
      "image/png": "[encoded data removed]",
      "text/plain": [
       "<matplotlib.figure.Figure at 0x29d34908>"
      ]
     },
     "metadata": {},
     "output_type": "display_data"
    }
   ],
   "source": [
    "plt.subplot(1,3,1)\n",
    "plt.imshow(sta.reshape(D,D),interpolation='nearest')\n",
    "plt.title('Subunit 1')\n",
    "\n",
    "plt.subplot(1,3,2)\n",
    "plt.imshow(k1_est.reshape(D,D),interpolation='nearest')\n",
    "plt.title('Subunit 1')\n",
    "\n",
    "plt.subplot(1,3,3)\n",
    "plt.imshow(k2_est.reshape(D,D),interpolation='nearest')\n",
    "plt.title('Subunit 2')\n"
   ]
  },
  {
   "cell_type": "markdown",
   "metadata": {},
   "source": [
    " ## Iterative algorithm by Shlens et al.\n",
    " \n",
    " For some reason, this does not work - rather, the algorithm walks away even from the correct solution. I guess something must be wrong."
   ]
  },
  {
   "cell_type": "code",
   "execution_count": null,
   "metadata": {
    "collapsed": true
   },
   "outputs": [],
   "source": [
    "#for i in range(1,1000):\n",
    "tmp = w[:,np.newaxis] * (np.exp(ks_est.transpose() @ s))\n",
    "\n",
    "alpha = tmp/np.sum(tmp,axis=0)\n",
    "\n",
    "ks_est = (s @ alpha.transpose()) / np.sum(alpha,axis=1)\n",
    "\n",
    "w_est = np.sum(alpha,axis=1) / T * np.exp(-.5 * np.linalg.norm(ks_est,axis=0)**2)  "
   ]
  }
 ],
 "metadata": {
  "anaconda-cloud": {},
  "kernelspec": {
   "display_name": "Python [Root]",
   "language": "python",
   "name": "Python [Root]"
  },
  "language_info": {
   "codemirror_mode": {
    "name": "ipython",
    "version": 3
   },
   "file_extension": ".py",
   "mimetype": "text/x-python",
   "name": "python",
   "nbconvert_exporter": "python",
   "pygments_lexer": "ipython3",
   "version": "3.5.2"
  }
 },
 "nbformat": 4,
 "nbformat_minor": 0
}
